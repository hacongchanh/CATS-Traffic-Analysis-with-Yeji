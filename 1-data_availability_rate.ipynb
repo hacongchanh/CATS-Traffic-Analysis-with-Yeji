{
 "cells": [
  {
   "cell_type": "code",
   "execution_count": null,
   "metadata": {},
   "outputs": [],
   "source": [
    "import pandas as pd\n",
    "import numpy as np\n",
    "import plotly.express as px\n",
    "\n",
    "bin_header_file_path = 'C:/Users/HP/Desktop/Dr. Shamshiripour/PAG_BinHeader_1995-2023.csv'\n",
    "bin_header = pd.read_csv(bin_header_file_path)\n",
    "bin_header = bin_header[bin_header['LOCAL_ID'].str.contains(r'^M-', regex = True)]\n",
    "bin_header['START_DATE'] = pd.to_datetime(bin_header['START_DATE'])\n",
    "bin_header_2022 = bin_header[bin_header['START_DATE'].dt.year == 2022]\n",
    "bin_header_2022['LOCAL_ID_main'] = bin_header_2022['LOCAL_ID'].str.split('-', n = 2).str[:2].str.join('-')\n",
    "bin_header_2022_grouped = bin_header_2022.groupby('LOCAL_ID_main')['START_DATE'].nunique().reset_index()\n",
    "bin_header_2022_grouped.columns = ['LOCAL_ID', 'number_of_days']\n",
    "bin_header_2022_grouped['availability_rate'] = 100 * bin_header_2022_grouped['number_of_days'] / 365\n",
    "\n",
    "fig = px.bar(bin_header_2022_grouped, x = 'availability_rate', y = 'LOCAL_ID',\n",
    "             orientation = 'h', title = 'Data Availability Rate in 2022')\n",
    "fig.update_layout(xaxis_title = 'Data Availability Rate',\n",
    "                  yaxis_title = 'LOCAL_ID')\n",
    "output_filename = 'C:/Users/HP/Desktop/Dr. Shamshiripour/data_availability_2022.html'\n",
    "fig.write_html(output_filename)"
   ]
  },
  {
   "cell_type": "code",
   "execution_count": null,
   "metadata": {},
   "outputs": [],
   "source": [
    "bin_header_2023 = bin_header[bin_header['START_DATE'].dt.year == 2023]\n",
    "bin_header_2023['LOCAL_ID_main'] = bin_header_2023['LOCAL_ID'].str.split('-', n = 2).str[:2].str.join('-')\n",
    "bin_header_2023_grouped = bin_header_2023.groupby('LOCAL_ID_main')['START_DATE'].nunique().reset_index()\n",
    "bin_header_2023_grouped.columns = ['LOCAL_ID', 'number_of_days']\n",
    "bin_header_2023_grouped['availability_rate'] = 100 * bin_header_2023_grouped['number_of_days'] / 365\n",
    "\n",
    "fig = px.bar(bin_header_2023_grouped, x = 'availability_rate', y = 'LOCAL_ID',\n",
    "             orientation = 'h', title = 'Data Availability Rate in 2023')\n",
    "fig.update_layout(xaxis_title = 'Data Availability Rate',\n",
    "                  yaxis_title = 'LOCAL_ID')\n",
    "output_filename = 'C:/Users/HP/Desktop/Dr. Shamshiripour/data_availability_2023.html'\n",
    "fig.write_html(output_filename)"
   ]
  }
 ],
 "metadata": {
  "kernelspec": {
   "display_name": "Python 3",
   "language": "python",
   "name": "python3"
  },
  "language_info": {
   "codemirror_mode": {
    "name": "ipython",
    "version": 3
   },
   "file_extension": ".py",
   "mimetype": "text/x-python",
   "name": "python",
   "nbconvert_exporter": "python",
   "pygments_lexer": "ipython3",
   "version": "3.11.1"
  }
 },
 "nbformat": 4,
 "nbformat_minor": 2
}
