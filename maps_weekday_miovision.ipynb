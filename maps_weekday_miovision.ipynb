{
 "cells": [
  {
   "cell_type": "code",
   "execution_count": null,
   "metadata": {},
   "outputs": [
    {
     "data": {
      "text/html": [
       "<div>\n",
       "<style scoped>\n",
       "    .dataframe tbody tr th:only-of-type {\n",
       "        vertical-align: middle;\n",
       "    }\n",
       "\n",
       "    .dataframe tbody tr th {\n",
       "        vertical-align: top;\n",
       "    }\n",
       "\n",
       "    .dataframe thead th {\n",
       "        text-align: right;\n",
       "    }\n",
       "</style>\n",
       "<table border=\"1\" class=\"dataframe\">\n",
       "  <thead>\n",
       "    <tr style=\"text-align: right;\">\n",
       "      <th></th>\n",
       "      <th>IntersectionId</th>\n",
       "      <th>ClassificationId</th>\n",
       "      <th>Latitude</th>\n",
       "      <th>Longitude</th>\n",
       "      <th>Year</th>\n",
       "      <th>AverageWeekdayVolume</th>\n",
       "    </tr>\n",
       "  </thead>\n",
       "  <tbody>\n",
       "    <tr>\n",
       "      <th>0</th>\n",
       "      <td>60428</td>\n",
       "      <td>1</td>\n",
       "      <td>32.134247</td>\n",
       "      <td>-110.909517</td>\n",
       "      <td>2021</td>\n",
       "      <td>39582.201117</td>\n",
       "    </tr>\n",
       "  </tbody>\n",
       "</table>\n",
       "</div>"
      ],
      "text/plain": [
       "   IntersectionId  ClassificationId   Latitude   Longitude  Year  \\\n",
       "0           60428                 1  32.134247 -110.909517  2021   \n",
       "\n",
       "   AverageWeekdayVolume  \n",
       "0          39582.201117  "
      ]
     },
     "execution_count": 2,
     "metadata": {},
     "output_type": "execute_result"
    }
   ],
   "source": [
    "import pandas as pd\n",
    "import numpy as np\n",
    "import folium\n",
    "from matplotlib import pyplot as plt\n",
    "from io import BytesIO\n",
    "import base64\n",
    "\n",
    "intersection_data = pd.read_csv('D:/Dr. Shamshiripour/PAG_TMC/TmcIntersection.CSV')\n",
    "intersection_data = intersection_data[['IntersectionId', 'Latitude', 'Longitude']]\n",
    "count_data = pd.read_csv('D:/Dr. Shamshiripour/PAG_TMC/TmcCount.CSV')\n",
    "count_data = count_data[['CountId', 'IntersectionId', 'StartDate']]\n",
    "count_data['IntersectionId'] = count_data['IntersectionId'].astype(int)\n",
    "count_data['StartDate'] = (count_data['StartDate'] / 1e9).astype(int).astype(str)\n",
    "count_data['StartDate'] = pd.to_datetime(count_data['StartDate'], format='%Y%m%d', errors = 'coerce')\n",
    "count_data['Year'] = count_data['StartDate'].dt.year\n",
    "count_data['DayOfWeek'] = count_data['StartDate'].dt.day_name()\n",
    "count_data.dropna(subset = ['IntersectionId'], inplace = True)\n",
    "most_recent_years = count_data.groupby('IntersectionId')['Year'].max()\n",
    "count_data = count_data[count_data['Year'] == count_data['IntersectionId'].map(most_recent_years)] \n",
    "valid_combinations = count_data.groupby(['IntersectionId', 'Year'])['StartDate'].nunique() > 3\n",
    "valid_combinations = valid_combinations[valid_combinations].index\n",
    "count_data = count_data[count_data.set_index(['IntersectionId', 'Year']).index.isin(valid_combinations)]\n",
    "count_data = count_data[~count_data['DayOfWeek'].isin(['Saturday', 'Sunday'])]\n",
    "\n",
    "chunks = []\n",
    "for chunk in pd.read_csv('D:/Dr. Shamshiripour/PAG_TMC/TmcCountData.CSV', chunksize = 50000,\n",
    "                         usecols = ['CountId', 'ClassificationId', 'StartTime',\n",
    "                                    'HardLeftMovement', 'LeftMovement', 'BearLeftMovement', \n",
    "                                    'ThruOrPedMovement', 'BearRightMovement', 'RightMovement', \n",
    "                                    'HardRightMovement', 'UTurnMovement']):\n",
    "    chunk['StartTime'] = pd.to_datetime(chunk['StartTime'], format = '%H:%M:%S').dt.time\n",
    "    chunk = chunk.merge(count_data, on = 'CountId', how = 'inner')\n",
    "    chunk = chunk.merge(intersection_data, on = 'IntersectionId', how = 'inner')\n",
    "    chunk['TotalCount'] = chunk[['HardLeftMovement', 'LeftMovement', 'BearLeftMovement', \n",
    "                                 'ThruOrPedMovement', 'BearRightMovement', 'RightMovement', \n",
    "                                 'HardRightMovement', 'UTurnMovement']].sum(axis = 1)\n",
    "    chunk = chunk[chunk['ClassificationId'] == 1]\n",
    "    chunks.append(chunk)\n",
    "    del chunk\n",
    "cars = pd.concat(chunks, ignore_index = True)\n",
    "car_summary = cars.groupby(['IntersectionId', 'ClassificationId', 'Latitude', \n",
    "                            'Longitude', 'StartDate', 'Year'])['TotalCount'].sum().reset_index()\n",
    "car_summary = car_summary.groupby(['IntersectionId', 'ClassificationId', 'Latitude', \n",
    "                                   'Longitude', 'Year']).agg(AverageWeekdayVolume = ('TotalCount', 'mean')).reset_index()\n",
    "car_summary"
   ]
  },
  {
   "cell_type": "code",
   "execution_count": 3,
   "metadata": {},
   "outputs": [
    {
     "data": {
      "text/html": [
       "<div>\n",
       "<style scoped>\n",
       "    .dataframe tbody tr th:only-of-type {\n",
       "        vertical-align: middle;\n",
       "    }\n",
       "\n",
       "    .dataframe tbody tr th {\n",
       "        vertical-align: top;\n",
       "    }\n",
       "\n",
       "    .dataframe thead th {\n",
       "        text-align: right;\n",
       "    }\n",
       "</style>\n",
       "<table border=\"1\" class=\"dataframe\">\n",
       "  <thead>\n",
       "    <tr style=\"text-align: right;\">\n",
       "      <th></th>\n",
       "      <th>IntersectionId</th>\n",
       "      <th>ClassificationId</th>\n",
       "      <th>Latitude</th>\n",
       "      <th>Longitude</th>\n",
       "      <th>Year</th>\n",
       "      <th>AverageWeekdayVolume</th>\n",
       "    </tr>\n",
       "  </thead>\n",
       "  <tbody>\n",
       "  </tbody>\n",
       "</table>\n",
       "</div>"
      ],
      "text/plain": [
       "Empty DataFrame\n",
       "Columns: [IntersectionId, ClassificationId, Latitude, Longitude, Year, AverageWeekdayVolume]\n",
       "Index: []"
      ]
     },
     "execution_count": 3,
     "metadata": {},
     "output_type": "execute_result"
    }
   ],
   "source": [
    "chunks = []\n",
    "for chunk in pd.read_csv('D:/Dr. Shamshiripour/PAG_TMC/TmcCountData.CSV', chunksize = 50000,\n",
    "                         usecols = ['CountId', 'ClassificationId', 'StartTime',\n",
    "                                    'HardLeftMovement', 'LeftMovement', 'BearLeftMovement', \n",
    "                                    'ThruOrPedMovement', 'BearRightMovement', 'RightMovement', \n",
    "                                    'HardRightMovement', 'UTurnMovement']):\n",
    "    chunk['StartTime'] = pd.to_datetime(chunk['StartTime'], format = '%H:%M:%S').dt.time\n",
    "    chunk = chunk.merge(count_data, on = 'CountId', how = 'inner')\n",
    "    chunk = chunk.merge(intersection_data, on = 'IntersectionId', how = 'inner')\n",
    "    chunk['TotalCount'] = chunk[['HardLeftMovement', 'LeftMovement', 'BearLeftMovement', \n",
    "                                 'ThruOrPedMovement', 'BearRightMovement', 'RightMovement', \n",
    "                                 'HardRightMovement', 'UTurnMovement']].sum(axis = 1)\n",
    "    chunk = chunk[chunk['ClassificationId'] == 2]\n",
    "    chunks.append(chunk)\n",
    "    del chunk\n",
    "trucks = pd.concat(chunks, ignore_index = True)\n",
    "truck_summary = trucks.groupby(['IntersectionId', 'ClassificationId', 'Latitude', \n",
    "                                'Longitude', 'StartDate', 'Year'])['TotalCount'].sum().reset_index()\n",
    "truck_summary = truck_summary.groupby(['IntersectionId', 'ClassificationId', 'Latitude', \n",
    "                                       'Longitude', 'Year']).agg(AverageWeekdayVolume = ('TotalCount', 'mean')).reset_index()\n",
    "truck_summary"
   ]
  },
  {
   "cell_type": "code",
   "execution_count": 4,
   "metadata": {},
   "outputs": [
    {
     "name": "stdout",
     "output_type": "stream",
     "text": [
      "Map has been created and saved to bike_miovision.html\n"
     ]
    }
   ],
   "source": [
    "chunks = []\n",
    "for chunk in pd.read_csv('D:/Dr. Shamshiripour/PAG_TMC/TmcCountData.CSV', chunksize = 50000,\n",
    "                         usecols = ['CountId', 'ClassificationId', 'StartTime',\n",
    "                                    'HardLeftMovement', 'LeftMovement', 'BearLeftMovement', \n",
    "                                    'ThruOrPedMovement', 'BearRightMovement', 'RightMovement', \n",
    "                                    'HardRightMovement', 'UTurnMovement']):\n",
    "    chunk['StartTime'] = pd.to_datetime(chunk['StartTime'], format = '%H:%M:%S').dt.time\n",
    "    chunk = chunk.merge(count_data, on = 'CountId', how = 'inner')\n",
    "    chunk = chunk.merge(intersection_data, on = 'IntersectionId', how = 'inner')\n",
    "    chunk['TotalCount'] = chunk[['HardLeftMovement', 'LeftMovement', 'BearLeftMovement', \n",
    "                                 'ThruOrPedMovement', 'BearRightMovement', 'RightMovement', \n",
    "                                 'HardRightMovement', 'UTurnMovement']].sum(axis = 1)\n",
    "    chunk = chunk[chunk['ClassificationId'] == 3]\n",
    "    chunks.append(chunk)\n",
    "    del chunk\n",
    "bikes = pd.concat(chunks, ignore_index = True)\n",
    "bike_summary = bikes.groupby(['IntersectionId', 'ClassificationId', 'Latitude', \n",
    "                              'Longitude', 'StartDate', 'Year'])['TotalCount'].sum().reset_index()\n",
    "bike_summary = bike_summary.groupby(['IntersectionId', 'ClassificationId', 'Latitude', \n",
    "                                     'Longitude', 'Year']).agg(AverageWeekdayVolume = ('TotalCount', 'mean')).reset_index()\n",
    "def calculate_radius(count, max_count):\n",
    "    return (count / max_count) * 30\n",
    "max_count = bike_summary['AverageWeekdayVolume'].max()\n",
    "m3 = folium.Map(location = [32.2226, -110.9747], zoom_start = 10, tiles = 'cartodbpositron')\n",
    "for index, row in bike_summary.iterrows():\n",
    "    if row['AverageWeekdayVolume'] > 0:\n",
    "        folium.CircleMarker(\n",
    "            location = (row['Latitude'], row['Longitude']),\n",
    "            radius = calculate_radius(row['AverageWeekdayVolume'], max_count),\n",
    "            color = '#ff8b8b',\n",
    "            fill = True,\n",
    "            fill_opacity = 0.5,\n",
    "            popup = f\"<b>Intersection ID:</b> {row['IntersectionId'].astype(int)}<br>\" + \n",
    "                    f\"<b>Year:</b> {row['Year'].astype(int)}<br>\" + \n",
    "                    f\"<b>Average Weekday Bike Count:</b> {row['AverageWeekdayVolume'].round(2)}\"\n",
    "        ).add_to(m3)\n",
    "legend_html = '''\n",
    "<div style = 'position: fixed; bottom: 50px; left: 50px; width: 250px; height: auto; border: 2px solid grey; \n",
    "              z-index: 9999; font-size: 14px; background-color: white; padding: 10px;'>\n",
    "<b>Average Weekday Bike Count</b><br>\n",
    "'''\n",
    "for count in [20, 40, 60, 80]:\n",
    "    radius = calculate_radius(count, max_count) * 1.5\n",
    "    legend_html += f'''\n",
    "    <div style = 'margin: 5px 0;'>\n",
    "        {count}\n",
    "        <div style = 'display: inline-block; width: {radius:.2f}px; height: {radius:.2f}px; \n",
    "                      background-color: #ff8b8b; border-radius: 100%; margin-left: 10px;'></div>\n",
    "    </div>\n",
    "    '''\n",
    "legend_html += '</div>'\n",
    "m3.get_root().html.add_child(folium.Element(legend_html))\n",
    "m3.save('bike_miovision.html')\n",
    "print('Map has been created and saved to bike_miovision.html')"
   ]
  },
  {
   "cell_type": "code",
   "execution_count": 5,
   "metadata": {},
   "outputs": [
    {
     "data": {
      "text/html": [
       "<div>\n",
       "<style scoped>\n",
       "    .dataframe tbody tr th:only-of-type {\n",
       "        vertical-align: middle;\n",
       "    }\n",
       "\n",
       "    .dataframe tbody tr th {\n",
       "        vertical-align: top;\n",
       "    }\n",
       "\n",
       "    .dataframe thead th {\n",
       "        text-align: right;\n",
       "    }\n",
       "</style>\n",
       "<table border=\"1\" class=\"dataframe\">\n",
       "  <thead>\n",
       "    <tr style=\"text-align: right;\">\n",
       "      <th></th>\n",
       "      <th>IntersectionId</th>\n",
       "      <th>ClassificationId</th>\n",
       "      <th>Latitude</th>\n",
       "      <th>Longitude</th>\n",
       "      <th>Year</th>\n",
       "      <th>AverageWeekdayVolume</th>\n",
       "    </tr>\n",
       "  </thead>\n",
       "  <tbody>\n",
       "  </tbody>\n",
       "</table>\n",
       "</div>"
      ],
      "text/plain": [
       "Empty DataFrame\n",
       "Columns: [IntersectionId, ClassificationId, Latitude, Longitude, Year, AverageWeekdayVolume]\n",
       "Index: []"
      ]
     },
     "execution_count": 5,
     "metadata": {},
     "output_type": "execute_result"
    }
   ],
   "source": [
    "chunks = []\n",
    "for chunk in pd.read_csv('D:/Dr. Shamshiripour/PAG_TMC/TmcCountData.CSV', chunksize = 50000,\n",
    "                         usecols = ['CountId', 'ClassificationId', 'StartTime',\n",
    "                                    'HardLeftMovement', 'LeftMovement', 'BearLeftMovement', \n",
    "                                    'ThruOrPedMovement', 'BearRightMovement', 'RightMovement', \n",
    "                                    'HardRightMovement', 'UTurnMovement']):\n",
    "    chunk['StartTime'] = pd.to_datetime(chunk['StartTime'], format = '%H:%M:%S').dt.time\n",
    "    chunk = chunk.merge(count_data, on = 'CountId', how = 'inner')\n",
    "    chunk = chunk.merge(intersection_data, on = 'IntersectionId', how = 'inner')\n",
    "    chunk['TotalCount'] = chunk[['HardLeftMovement', 'LeftMovement', 'BearLeftMovement', \n",
    "                                 'ThruOrPedMovement', 'BearRightMovement', 'RightMovement', \n",
    "                                 'HardRightMovement', 'UTurnMovement']].sum(axis = 1)\n",
    "    chunk = chunk[chunk['ClassificationId'] == 4]\n",
    "    chunks.append(chunk)\n",
    "    del chunk\n",
    "pedestrians = pd.concat(chunks, ignore_index = True)\n",
    "pedestrian_summary = pedestrians.groupby(['IntersectionId', 'ClassificationId', 'Latitude', \n",
    "                                          'Longitude', 'StartDate', 'Year'])['TotalCount'].sum().reset_index()\n",
    "pedestrian_summary = pedestrian_summary.groupby(['IntersectionId', 'ClassificationId', 'Latitude', \n",
    "                                     'Longitude', 'Year']).agg(AverageWeekdayVolume = ('TotalCount', 'mean')).reset_index()\n",
    "pedestrian_summary"
   ]
  },
  {
   "cell_type": "code",
   "execution_count": 9,
   "metadata": {},
   "outputs": [
    {
     "data": {
      "image/png": "[encoded data removed]",
      "text/plain": [
       "<Figure size 800x500 with 1 Axes>"
      ]
     },
     "metadata": {},
     "output_type": "display_data"
    }
   ],
   "source": [
    "row_counts = [len(car_summary), len(truck_summary), len(bike_summary), len(pedestrian_summary)]\n",
    "labels = ['Car', 'Truck', 'Bike', 'Pedestrian']\n",
    "plt.figure(figsize = (8, 5))\n",
    "plt.bar(labels, row_counts)\n",
    "plt.xlabel('Mode of Transportation')\n",
    "plt.ylabel('Number of Miovision Intersections with Data')\n",
    "plt.title('Number of Miovision Intersections with Data by Mode of Transportation')\n",
    "plt.tick_params(axis = 'x', length = 0)\n",
    "plt.tick_params(axis = 'y', length = 0)\n",
    "plt.tight_layout()\n",
    "plt.show()"
   ]
  }
 ],
 "metadata": {
  "kernelspec": {
   "display_name": "Python 3",
   "language": "python",
   "name": "python3"
  },
  "language_info": {
   "codemirror_mode": {
    "name": "ipython",
    "version": 3
   },
   "file_extension": ".py",
   "mimetype": "text/x-python",
   "name": "python",
   "nbconvert_exporter": "python",
   "pygments_lexer": "ipython3",
   "version": "3.11.1"
  }
 },
 "nbformat": 4,
 "nbformat_minor": 2
}
